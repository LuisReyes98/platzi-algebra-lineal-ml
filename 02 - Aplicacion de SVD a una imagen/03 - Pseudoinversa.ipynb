{
 "cells": [
  {
   "cell_type": "markdown",
   "metadata": {},
   "source": [
    "# ¿Qué es una pseudo inversa de Moore Penrose y cómo calcularla?\n",
    "\n",
    "Un sistema de ecuaciones lineales se puede representar como\n",
    "\n",
    "$$\n",
    "Ax = b\n",
    "$$\n",
    "\n",
    "y si existe $A^{-1}$ la solucion del sistema se puede representar como:\n",
    "\n",
    "$$\n",
    "\\exists A^{-1} \\Rightarrow x = A^{-1} b\n",
    "$$\n",
    "\n",
    "pero en caso de que $A$ sea singular, la pseudo inversa de $A$ ($A_{pse}$) se puede representar como:\n",
    "\n",
    "$$\n",
    "A * A_{pse}\\approx Id\n",
    "$$\n",
    "\n",
    "Donde $Id$ es la identidad de $A$ y $A_pse$ es la pseudo inversa de $A$.\n",
    "\n",
    "Dice que\n",
    "\n",
    "V obtenida de la descomposicion SVD\n",
    "\n",
    "$A_pse = V * D_{pse} * U^t$\n"
   ]
  },
  {
   "cell_type": "markdown",
   "metadata": {},
   "source": [
    "La pseudo inversa de Moore Penrose es una aplicación directa de SVD, que nos permite resolver en determinados momentos sistemas de ecuaciones lineales con múltiples soluciones.\n",
    "\n",
    "Es utilizada cuando en un sistema de ecuaciones lineales representado por Ax = B, x no tiene inversa. Esta operación es única y existe si se verifican 4 condiciones:"
   ]
  },
  {
   "cell_type": "markdown",
   "metadata": {},
   "source": [
    "![Pseudo inversa](./pseudo_inversa.png)"
   ]
  },
  {
   "cell_type": "markdown",
   "metadata": {},
   "source": [
    "### Cómo calcular la pseudo inversa de Moore Penrose\n",
    "\n",
    "Para calcularla se siguen los siguientes pasos:\n",
    "\n",
    "- Calcular las matrices U, D, y V (matrices SVD) de A.\n",
    "- Construir D_pse: una matriz de ceros que tiene igual dimension de A, y que luego se transpone.\n",
    "- Reemplazar la submatriz D_pse[: D.shape[0], : D.shape[0]] por np.linalg.inv(np.diag(D))\n",
    "- Reconstruir pseudoinversa: A_pse = V.T.dot(D_pse).dot(U.T)\n",
    "\n",
    "### Cómo calcular la pseudo inversa de Moore Penrose en Python\n",
    "\n",
    "Para calcularla automaticamente por Python: `np.linalg.pinv(A)`\n",
    "\n",
    "Lo que obtenemos con A_pse es una matriz muy cercana a la inversa. Cercano en el sentido de que minimiza la norma dos de estas distancias. O sea, de estos errores que estamos cometiendo.\n",
    "\n",
    "A_pse no es conmutativa, es decir, A_pse·A ≠ A·A_pse"
   ]
  },
  {
   "cell_type": "code",
   "execution_count": 1,
   "metadata": {},
   "outputs": [],
   "source": [
    "import numpy as np\n",
    "\n",
    "# que al hacer nos muestre los numeros muy cercanos a 0 como 0\n",
    "np.set_printoptions(suppress=True)"
   ]
  },
  {
   "cell_type": "code",
   "execution_count": 4,
   "metadata": {},
   "outputs": [
    {
     "data": {
      "text/plain": [
       "array([[ 2,  3],\n",
       "       [ 5,  7],\n",
       "       [11, 13]])"
      ]
     },
     "execution_count": 4,
     "metadata": {},
     "output_type": "execute_result"
    }
   ],
   "source": [
    "A = np.array([[2,3], [5,7], [11,13]])\n",
    "A\n"
   ]
  },
  {
   "cell_type": "markdown",
   "metadata": {},
   "source": [
    "Cuando la pseudo inversa de Moore Penrose, verifica 4 condiciones, en donde la matriz existe y es unica."
   ]
  },
  {
   "cell_type": "code",
   "execution_count": 7,
   "metadata": {},
   "outputs": [
    {
     "name": "stdout",
     "output_type": "stream",
     "text": [
      "U\n",
      "[[-0.18499741 -0.47276624 -0.86154979]\n",
      " [-0.44249308 -0.74271297  0.50257071]\n",
      " [-0.87748267  0.4742041  -0.07179582]]\n",
      "D\n",
      "[19.40321383  0.71783924]\n",
      "V\n",
      "[[-0.63055377 -0.77614557]\n",
      " [ 0.77614557 -0.63055377]]\n"
     ]
    }
   ],
   "source": [
    "U, D, V = np.linalg.svd(A)\n",
    "print(\"U\")\n",
    "print(U)\n",
    "print(\"D\")\n",
    "print(D)\n",
    "print(\"V\")\n",
    "print(V)\n"
   ]
  },
  {
   "cell_type": "code",
   "execution_count": 10,
   "metadata": {},
   "outputs": [
    {
     "data": {
      "text/plain": [
       "array([[0., 0., 0.],\n",
       "       [0., 0., 0.]])"
      ]
     },
     "execution_count": 10,
     "metadata": {},
     "output_type": "execute_result"
    }
   ],
   "source": [
    "D_pse = np.zeros(A.shape).T\n",
    "D_pse\n"
   ]
  },
  {
   "cell_type": "markdown",
   "metadata": {},
   "source": [
    "Calcular el reciproco de la matriz"
   ]
  },
  {
   "cell_type": "code",
   "execution_count": 11,
   "metadata": {},
   "outputs": [
    {
     "name": "stdout",
     "output_type": "stream",
     "text": [
      "Valores a reemplazar en D_pse\n",
      "[[0. 0.]\n",
      " [0. 0.]]\n"
     ]
    }
   ],
   "source": [
    "print(\"Valores a reemplazar en D_pse\")\n",
    "print(D_pse[:D.shape[0], :D.shape[0]])"
   ]
  },
  {
   "cell_type": "code",
   "execution_count": 13,
   "metadata": {},
   "outputs": [
    {
     "name": "stdout",
     "output_type": "stream",
     "text": [
      "Valores que usaremos en D_pse\n",
      "[[0.05153785 0.        ]\n",
      " [0.         1.39306957]]\n"
     ]
    }
   ],
   "source": [
    "print(\"Valores que usaremos en D_pse\")\n",
    "print(np.linalg.inv(np.diag(D)))"
   ]
  },
  {
   "cell_type": "code",
   "execution_count": 14,
   "metadata": {},
   "outputs": [
    {
     "name": "stdout",
     "output_type": "stream",
     "text": [
      "D_pse\n"
     ]
    },
    {
     "data": {
      "text/plain": [
       "array([[0.05153785, 0.        , 0.        ],\n",
       "       [0.        , 1.39306957, 0.        ]])"
      ]
     },
     "execution_count": 14,
     "metadata": {},
     "output_type": "execute_result"
    }
   ],
   "source": [
    "print(\"D_pse\")\n",
    "D_pse[:D.shape[0], :D.shape[0]] = np.linalg.inv(np.diag(D))\n",
    "D_pse\n"
   ]
  },
  {
   "cell_type": "code",
   "execution_count": 15,
   "metadata": {},
   "outputs": [
    {
     "data": {
      "text/plain": [
       "array([[-0.50515464, -0.78865979,  0.54123711],\n",
       "       [ 0.42268041,  0.67010309, -0.3814433 ]])"
      ]
     },
     "execution_count": 15,
     "metadata": {},
     "output_type": "execute_result"
    }
   ],
   "source": [
    "A_pse = V.T.dot(D_pse).dot(U.T)\n",
    "# matriz que puede o no ser una pseudoinversa de A\n",
    "A_pse"
   ]
  },
  {
   "cell_type": "code",
   "execution_count": 16,
   "metadata": {},
   "outputs": [
    {
     "data": {
      "text/plain": [
       "array([[ 2,  3],\n",
       "       [ 5,  7],\n",
       "       [11, 13]])"
      ]
     },
     "execution_count": 16,
     "metadata": {},
     "output_type": "execute_result"
    }
   ],
   "source": [
    "A"
   ]
  },
  {
   "cell_type": "code",
   "execution_count": 18,
   "metadata": {},
   "outputs": [
    {
     "data": {
      "text/plain": [
       "array([[-0.50515464, -0.78865979,  0.54123711],\n",
       "       [ 0.42268041,  0.67010309, -0.3814433 ]])"
      ]
     },
     "execution_count": 18,
     "metadata": {},
     "output_type": "execute_result"
    }
   ],
   "source": [
    "A_pse_calc = np.linalg.pinv(A)\n",
    "A_pse_calc\n"
   ]
  },
  {
   "cell_type": "code",
   "execution_count": 19,
   "metadata": {},
   "outputs": [
    {
     "data": {
      "text/plain": [
       "array([[ True,  True,  True],\n",
       "       [ True, False,  True]])"
      ]
     },
     "execution_count": 19,
     "metadata": {},
     "output_type": "execute_result"
    }
   ],
   "source": [
    "A_pse_calc == A_pse"
   ]
  },
  {
   "cell_type": "code",
   "execution_count": 20,
   "metadata": {},
   "outputs": [
    {
     "data": {
      "text/plain": [
       "array([[ 1., -0.],\n",
       "       [ 0.,  1.]])"
      ]
     },
     "execution_count": 20,
     "metadata": {},
     "output_type": "execute_result"
    }
   ],
   "source": [
    "A_pse.dot(A)"
   ]
  },
  {
   "cell_type": "code",
   "execution_count": 23,
   "metadata": {},
   "outputs": [
    {
     "data": {
      "text/plain": [
       "array([[ 1.00000000e+00, -8.88178420e-16],\n",
       "       [ 2.66453526e-15,  1.00000000e+00]])"
      ]
     },
     "execution_count": 23,
     "metadata": {},
     "output_type": "execute_result"
    }
   ],
   "source": [
    "np.set_printoptions(suppress=False)\n",
    "A_pse.dot(A)\n"
   ]
  },
  {
   "cell_type": "code",
   "execution_count": 25,
   "metadata": {},
   "outputs": [
    {
     "data": {
      "text/plain": [
       "array([[ 0.25773196,  0.43298969, -0.06185567],\n",
       "       [ 0.43298969,  0.74742268,  0.03608247],\n",
       "       [-0.06185567,  0.03608247,  0.99484536]])"
      ]
     },
     "execution_count": 25,
     "metadata": {},
     "output_type": "execute_result"
    }
   ],
   "source": [
    "# la pseudoinversa no obtiene la indentidad al multiplicar por la izquierda y por la derecha, solo en una direccion se aproxima a la identidad, NO ES CONMUTATIVA\n",
    "A.dot(A_pse)"
   ]
  },
  {
   "cell_type": "markdown",
   "metadata": {},
   "source": [
    "Hay otros tipos de pseudoinversa"
   ]
  },
  {
   "cell_type": "code",
   "execution_count": 28,
   "metadata": {},
   "outputs": [
    {
     "name": "stdout",
     "output_type": "stream",
     "text": [
      "A_pse_2\n",
      "[[-0.50515464 -0.78865979  0.54123711]\n",
      " [ 0.42268041  0.67010309 -0.3814433 ]]\n",
      "A_pse\n",
      "[[-0.50515464 -0.78865979  0.54123711]\n",
      " [ 0.42268041  0.67010309 -0.3814433 ]]\n"
     ]
    }
   ],
   "source": [
    "A_pse_2 = np.linalg.inv(A.T.dot(A)).dot(A.T)\n",
    "print(\"A_pse_2\")\n",
    "print(A_pse_2)\n",
    "print(\"A_pse\")\n",
    "print(A_pse)\n"
   ]
  },
  {
   "cell_type": "markdown",
   "metadata": {},
   "source": [
    "Si bien son iguales la que esta implementada en python es la que utiliza el metodo SVD ya que es mas certera y computacionalmente mas efectiva ya que posee un menor margen de error."
   ]
  },
  {
   "cell_type": "markdown",
   "metadata": {},
   "source": [
    "### Resumen Alumnos\n",
    "\n",
    "- La pseudo inversa de Moore Penrose es utilizada cuando en un sistema de ecuaciones lineales representado por $Ax = B$, $x$ no tiene inversa.\n",
    "- La pseudo inversa de MP es única y existe si se verifican 4 condiciones.\n",
    "- Para calcularla se siguen los siguientes pasos:\n",
    "  1. Calcular las matrices U, D, y V (matrices SVD) de A.\n",
    "  2. Construir D_pse: una matriz de ceros que tiene igual dimension de A, y que luego se transpone.\n",
    "  3. Reemplazar la submatriz `D_pse[: D.shape[0], : D.shape[0]]` por np.linalg.inv(np.diag(D))\n",
    "  4. Reconstruir pseudoinversa: `A_pse = V.T.dot(D_pse).dot(U.T)`\n",
    "\n",
    "**Notas**\n",
    "\n",
    "- Para calcularla automaticamente por Python: `np.linalg.pinv(A)`\n",
    "- Lo que obtenemos con A_pse es una matriz muy cercana a la inversa. Cercano en el sentido de que minimiza la norma dos de estas distancias. O sea, de estos errores que estamos cometiendo.\n",
    "- A_pse no es conmutativa, es decir, A_pse·A ≠ A·A_pse"
   ]
  },
  {
   "cell_type": "code",
   "execution_count": null,
   "metadata": {},
   "outputs": [],
   "source": [
    "\n"
   ]
  },
  {
   "cell_type": "markdown",
   "metadata": {},
   "source": [
    "## Ejercicio\n",
    "\n",
    "¿Cuál es la pseudoinversa de Moore Penrose de la matriz?\n",
    "[[1 2]\n",
    "[3 4]\n",
    "[5 6]]"
   ]
  },
  {
   "cell_type": "code",
   "execution_count": 7,
   "metadata": {},
   "outputs": [
    {
     "data": {
      "text/plain": [
       "array([[1, 2],\n",
       "       [3, 4],\n",
       "       [5, 6]])"
      ]
     },
     "execution_count": 7,
     "metadata": {},
     "output_type": "execute_result"
    }
   ],
   "source": [
    "A = np.array([[1,2], [3,4], [5,6]])\n",
    "A"
   ]
  },
  {
   "cell_type": "code",
   "execution_count": 10,
   "metadata": {},
   "outputs": [
    {
     "data": {
      "text/plain": [
       "array([[-1.33333333, -0.33333333,  0.66666667],\n",
       "       [ 1.08333333,  0.33333333, -0.41666667]])"
      ]
     },
     "execution_count": 10,
     "metadata": {},
     "output_type": "execute_result"
    }
   ],
   "source": [
    "# pseudoinversa de Moore Penrose\n",
    "A_pse = np.linalg.pinv(A)\n",
    "A_pse\n"
   ]
  },
  {
   "cell_type": "markdown",
   "metadata": {},
   "source": [
    "Ahora validando por el metodo largo de SVD"
   ]
  },
  {
   "cell_type": "code",
   "execution_count": 9,
   "metadata": {},
   "outputs": [
    {
     "name": "stdout",
     "output_type": "stream",
     "text": [
      "U\n",
      "[[-0.2298477   0.88346102  0.40824829]\n",
      " [-0.52474482  0.24078249 -0.81649658]\n",
      " [-0.81964194 -0.40189603  0.40824829]]\n",
      "D\n",
      "[9.52551809 0.51430058]\n",
      "V\n",
      "[[-0.61962948 -0.78489445]\n",
      " [-0.78489445  0.61962948]]\n"
     ]
    }
   ],
   "source": [
    "U, D, V = np.linalg.svd(A)\n",
    "print(\"U\")\n",
    "print(U)\n",
    "print(\"D\")\n",
    "print(D)\n",
    "print(\"V\")\n",
    "print(V)\n"
   ]
  }
 ],
 "metadata": {
  "interpreter": {
   "hash": "ee8799877915b2128d18d4b1666f364b6042f264ec4835ead054518ba3b9d1ac"
  },
  "kernelspec": {
   "display_name": "Python 3.9.7 ('datascience_ml')",
   "language": "python",
   "name": "python3"
  },
  "language_info": {
   "codemirror_mode": {
    "name": "ipython",
    "version": 3
   },
   "file_extension": ".py",
   "mimetype": "text/x-python",
   "name": "python",
   "nbconvert_exporter": "python",
   "pygments_lexer": "ipython3",
   "version": "3.9.7"
  }
 },
 "nbformat": 4,
 "nbformat_minor": 2
}
